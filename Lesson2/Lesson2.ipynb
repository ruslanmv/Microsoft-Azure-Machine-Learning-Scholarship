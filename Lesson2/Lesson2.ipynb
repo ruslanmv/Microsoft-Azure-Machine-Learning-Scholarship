{
 "cells": [
  {
   "cell_type": "markdown",
   "metadata": {},
   "source": [
    "<!-- dom:TITLE: Introduction to Machine Learning on Azure -->\n",
    "# 1.0 Introduction to Machine Learning on Azure\n",
    "<!-- dom:AUTHOR: Ruslan Idelfonso Magana Vsevolodovna at National Institute for Nuclear Physics , Genova Italy -->\n",
    "<!-- Author: -->  \n",
    "**Ruslan Idelfonso Magana Vsevolodovna**, at National Institute for Nuclear Physics , Genova Italy\n",
    "\n",
    "Copyright 1999-2020, Ruslan Idelfonso Magana Vsevolodovna*. Released under CC Attribution-NonCommercial 4.0 license and credits from Udacity\n",
    "\n"
   ]
  },
  {
   "cell_type": "markdown",
   "metadata": {},
   "source": [
    "# Common notations in Machine Learning"
   ]
  },
  {
   "cell_type": "markdown",
   "metadata": {},
   "source": [
    "In ordering to discover this amazing world of Artificial Intelligence we require introduce some concepts which provides the capacity to perform calculations."
   ]
  },
  {
   "cell_type": "code",
   "execution_count": null,
   "metadata": {},
   "outputs": [],
   "source": []
  },
  {
   "cell_type": "markdown",
   "metadata": {},
   "source": [
    "## Scaling Data\n",
    "Scaling data means transforming it so that the values fit within some range or scale, such as 0–100 or 0–1. There are a number of reasons why it is a good idea to scale your data before feeding it into a machine learning algorithm."
   ]
  },
  {
   "cell_type": "code",
   "execution_count": null,
   "metadata": {},
   "outputs": [],
   "source": []
  }
 ],
 "metadata": {
  "kernelspec": {
   "display_name": "Python 3",
   "language": "python",
   "name": "python3"
  },
  "language_info": {
   "codemirror_mode": {
    "name": "ipython",
    "version": 3
   },
   "file_extension": ".py",
   "mimetype": "text/x-python",
   "name": "python",
   "nbconvert_exporter": "python",
   "pygments_lexer": "ipython3",
   "version": "3.7.6"
  }
 },
 "nbformat": 4,
 "nbformat_minor": 4
}
